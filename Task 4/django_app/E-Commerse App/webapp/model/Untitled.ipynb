{
 "cells": [
  {
   "cell_type": "code",
   "execution_count": 1,
   "id": "78d9c56b-1df2-44d5-bc8a-3dd9221f0613",
   "metadata": {},
   "outputs": [],
   "source": [
    "import pandas as pd\n",
    "import numpy as np\n",
    "\n",
    "import joblib\n",
    "\n",
    "from sklearn.preprocessing import StandardScaler\n",
    "from sklearn.tree import DecisionTreeClassifier\n",
    "\n",
    "# load the dataset\n",
    "from imblearn.combine import SMOTEENN\n",
    "from imblearn.pipeline import Pipeline as imblearnPipeline"
   ]
  },
  {
   "cell_type": "code",
   "execution_count": 7,
   "id": "771a28ee-c8bf-4f2e-a9ce-786f8c17fcaa",
   "metadata": {},
   "outputs": [],
   "source": [
    "df = pd.read_csv(\"data/diabetes_dataset.csv\")\n",
    "\n",
    "last_ix = len(df.columns)-1\n",
    "X, y = df.drop(df.columns[last_ix], axis=1), df[df.columns[last_ix]]\n",
    "\n",
    "sk_model = SMOTEENN()\n",
    "\n",
    "model = DecisionTreeClassifier()\n",
    "pipeline = imblearnPipeline(\n",
    "    steps = [\n",
    "        ('scaler', StandardScaler()),\n",
    "        ('s', sk_model), \n",
    "        ('m', model)\n",
    "    ])\n",
    "\n",
    "pipeline.fit(X, y)\n",
    "\n",
    "joblib.dump(pipeline, \"mymodel.pkl\")\n",
    "\n",
    "mymodel = joblib.load(\"mymodel.pkl\")"
   ]
  },
  {
   "cell_type": "code",
   "execution_count": null,
   "id": "5be49803-e0fc-4af5-9821-760b1628b24c",
   "metadata": {},
   "outputs": [],
   "source": []
  }
 ],
 "metadata": {
  "kernelspec": {
   "display_name": "Python 3 (ipykernel)",
   "language": "python",
   "name": "python3"
  },
  "language_info": {
   "codemirror_mode": {
    "name": "ipython",
    "version": 3
   },
   "file_extension": ".py",
   "mimetype": "text/x-python",
   "name": "python",
   "nbconvert_exporter": "python",
   "pygments_lexer": "ipython3",
   "version": "3.10.13"
  }
 },
 "nbformat": 4,
 "nbformat_minor": 5
}
