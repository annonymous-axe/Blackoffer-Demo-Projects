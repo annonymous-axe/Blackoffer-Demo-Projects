{
 "cells": [
  {
   "cell_type": "markdown",
   "id": "0bea82d3",
   "metadata": {},
   "source": [
    "## Install the <code>neo4j</code> to execute write and read from graph database (neo4j)."
   ]
  },
  {
   "cell_type": "code",
   "execution_count": 1,
   "id": "f28f3ed9-aab2-4780-8435-6800d9c9937b",
   "metadata": {},
   "outputs": [
    {
     "name": "stdout",
     "output_type": "stream",
     "text": [
      "Collecting neo4j\n",
      "  Using cached neo4j-5.18.0-py3-none-any.whl\n",
      "Requirement already satisfied: pytz in d:\\anaconda\\envs\\internship_env\\lib\\site-packages (from neo4j) (2023.3.post1)\n",
      "Installing collected packages: neo4j\n",
      "Successfully installed neo4j-5.18.0\n"
     ]
    }
   ],
   "source": [
    "!pip install neo4j"
   ]
  },
  {
   "cell_type": "markdown",
   "id": "564854e0",
   "metadata": {},
   "source": [
    "## Import the <code>neo4j</code> in our environment."
   ]
  },
  {
   "cell_type": "code",
   "execution_count": 2,
   "id": "4e685232-ad90-47c2-a0ba-f5182e62704f",
   "metadata": {},
   "outputs": [],
   "source": [
    "from neo4j import GraphDatabase\n",
    "\n",
    "import neo4j\n",
    "\n",
    "import pandas as pd"
   ]
  },
  {
   "cell_type": "markdown",
   "id": "2f019839",
   "metadata": {},
   "source": [
    "## Connect to the database, and check the connectivity."
   ]
  },
  {
   "cell_type": "code",
   "execution_count": 3,
   "id": "2f912201-6931-4172-b706-63520e5742a0",
   "metadata": {},
   "outputs": [],
   "source": [
    "URI = \"bolt://localhost:7687\"\n",
    "AUTH = (\"neo4j\", \"password\")"
   ]
  },
  {
   "cell_type": "code",
   "execution_count": 5,
   "id": "0a0d64d5-c9fc-4ec7-bb2b-c22c0457f563",
   "metadata": {},
   "outputs": [],
   "source": [
    "driver = GraphDatabase.driver(uri=URI, auth=AUTH)"
   ]
  },
  {
   "cell_type": "markdown",
   "id": "c00d2713",
   "metadata": {},
   "source": [
    "## Let's Create a new dbms"
   ]
  },
  {
   "cell_type": "code",
   "execution_count": 6,
   "id": "b3e43336-2e61-46c0-a7c5-0832251dd8be",
   "metadata": {},
   "outputs": [],
   "source": [
    "table_creation_query = \"\"\"\n",
    "        CREATE \n",
    "        (russell:PLAYER{name:\"Russell Westbrook\", age: 33, number: 0, height: 1.91, weight: 91}),\n",
    "        (lebron:PLAYER{name:\"LeBron James\", age: 36, number: 6, height: 2.06, weight: 113}),\n",
    "        (anthony:PLAYER{name:\"Anthony Davis\", age: 28, number: 23, height: 2.08, weight: 115}),\n",
    "        (ja:PLAYER{name:\"Ja Morant\", age: 22, number: 12, height: 1.91, weight: 79}),\n",
    "        (luka:PLAYER{name:\"Luka Doncic\", age: 22, number: 77, height: 2.01, weight: 104}),\n",
    "        (kristaps:PLAYER{name:\"Kristaps Porzingis\", age: 26, number: 6, height: 2.21, weight: 109}),\n",
    "        (kevin:PLAYER{name:\"Kevin Durant\", age: 33, number: 7, height: 2.08, weight: 109}),\n",
    "        (james:PLAYER{name:\"James Harden\", age: 32, number: 13, height: 1.96, weight: 100}),\n",
    "        (giannis:PLAYER{name:\"Giannis Antetokounmpo\", age: 26, number: 34, height: 2.11, weight: 110}),\n",
    "        (khris:PLAYER{name:\"Khris Middleton\", age: 30, number: 22, height: 2.01, weight: 100}),\t\n",
    "        (joel:PLAYER{name:\"Joel Embiid\", age: 27, number: 21, height: 2.13, weight: 127}),\t\n",
    "        (tobias:PLAYER{name:\"Tobias Harris\", age: 29, number: 22, height: 2.03, weight: 100}),\n",
    "\n",
    "        (frank:COACH{name: \"Frank Vogel\"}),\n",
    "        (taylor:COACH{name: \"Taylor Jenkins\"}),\n",
    "        (jason:COACH{name: \"Jason Kidd\"}),\n",
    "        (steve:COACH{name: \"Steve Nash\"}),\n",
    "        (mike:COACH{name: \"Mike Budenholzer\"}),\n",
    "        (doc:COACH{name: \"Doc Rivers\"}),\n",
    "        (stan:COACH{name: \"Stan Van Gundy\"}),\n",
    "\n",
    "        (lakers:TEAM{name:\"LA Lakers\"}),\n",
    "        (memphis:TEAM{name:\"Memphis Grizzlies\"}),\n",
    "        (mavericks:TEAM{name:\"Dallas Mavericks\"}),\n",
    "        (nets:TEAM{name:\"Brooklyn Nets\"}),\n",
    "        (bucks:TEAM{name:\"Milwaukee Bucks\"}),\n",
    "        (sixers:TEAM{name:\"Philadelphia 76ers\"}),\n",
    "\n",
    "        (lebron)-[:TEAMMATES]-> (russell),\n",
    "        (lebron)<-[:TEAMMATES]- (russell),\n",
    "        (lebron)-[:TEAMMATES]-> (anthony),\n",
    "        (lebron)<-[:TEAMMATES]- (anthony),\n",
    "        (russell)-[:TEAMMATES]-> (anthony),\n",
    "        (russell)<-[:TEAMMATES]- (anthony),\n",
    "        (luka)-[:TEAMMATES]-> (kristaps),\n",
    "        (luka)<-[:TEAMMATES]- (kristaps),\n",
    "        (kevin)-[:TEAMMATES]-> (james),\n",
    "        (kevin)<-[:TEAMMATES]- (james),\n",
    "        (giannis)-[:TEAMMATES]-> (khris),\n",
    "        (giannis)<-[:TEAMMATES]- (khris),\n",
    "        (joel)-[:TEAMMATES]-> (tobias),\n",
    "        (joel)<-[:TEAMMATES]- (tobias),\n",
    "\n",
    "        (frank)-[:COACHES]->(lebron),\n",
    "        (frank)-[:COACHES]->(anthony),\n",
    "        (frank)-[:COACHES]->(russell),\n",
    "        (taylor)-[:COACHES]->(ja),\n",
    "        (jason)-[:COACHES]->(luka),\n",
    "        (jason)-[:COACHES]->(kristaps),\n",
    "        (steve)-[:COACHES]->(kevin),\n",
    "        (steve)-[:COACHES]->(james),\n",
    "        (mike)-[:COACHES]->(giannis),\n",
    "        (mike)-[:COACHES]->(khris),\n",
    "        (doc)-[:COACHES]->(tobias),\n",
    "        (doc)-[:COACHES]->(joel),\n",
    "\n",
    "        (lebron)-[:PLAYS_FOR {salary: 40000000}]-> (lakers),\n",
    "        (russell)-[:PLAYS_FOR {salary: 33000000}]-> (lakers),\n",
    "        (anthony)-[:PLAYS_FOR {salary: 38000000}]-> (lakers),\n",
    "        (ja)-[:PLAYS_FOR {salary: 8000000}]-> (memphis),\n",
    "        (luka)-[:PLAYS_FOR {salary: 50000000}]-> (mavericks),\n",
    "        (kristaps)-[:PLAYS_FOR {salary: 26000000}]-> (mavericks),\n",
    "        (kevin)-[:PLAYS_FOR {salary: 45000000}]-> (nets),\n",
    "        (james)-[:PLAYS_FOR{salary: 4200000}]-> (nets),\n",
    "        (giannis)-[:PLAYS_FOR {salary: 47000000}]-> (bucks),\n",
    "        (khris)-[:PLAYS_FOR {salary: 43000000}]-> (bucks),\n",
    "        (joel)-[:PLAYS_FOR {salary: 4000000}]-> (sixers),\n",
    "        (tobias)-[:PLAYS_FOR {salary: 4000000}]-> (sixers),\n",
    "\n",
    "        (frank)-[:COACHES_FOR]->(lakers),\n",
    "        (taylor)-[:COACHES_FOR]->(memphis),\n",
    "        (jason)-[:COACHES_FOR]->(mavericks),\n",
    "        (steve)-[:COACHES_FOR]->(nets),\n",
    "        (mike)-[:COACHES_FOR]->(bucks),\n",
    "        (doc)-[:COACHES_FOR]->(sixers),\n",
    "\n",
    "\n",
    "        (lebron)-[:PLAYED_AGAINST {minutes: 38, points: 32, assists: 6, rebounds: 6, turnovers: 2}]-> (memphis),\n",
    "        (russell)-[:PLAYED_AGAINST {minutes: 29, points: 16, assists: 12, rebounds: 11, turnovers: 16}]-> (memphis),\n",
    "        (anthony)-[:PLAYED_AGAINST {minutes: 36, points: 27, assists: 2, rebounds: 8, turnovers: 1}]-> (memphis),\n",
    "        (ja)-[:PLAYED_AGAINST {minutes: 43, points: 42, assists: 7, rebounds: 8, turnovers: 4}]-> (lakers),\n",
    "\n",
    "        (lebron)-[:PLAYED_AGAINST {minutes: 23, points: 25, assists: 12, rebounds: 3, turnovers: 0}]-> (memphis),\n",
    "        (russell)-[:PLAYED_AGAINST {minutes: 20, points: 11, assists: 10, rebounds: 3, turnovers: 8}]-> (memphis),\n",
    "        (anthony)-[:PLAYED_AGAINST {minutes: 30, points: 22, assists: 2, rebounds: 8, turnovers: 1}]-> (memphis),\n",
    "        (ja)-[:PLAYED_AGAINST {minutes: 35, points: 35, assists: 3, rebounds: 4, turnovers: 2}]-> (lakers),\n",
    "\n",
    "        (lebron)-[:PLAYED_AGAINST {minutes: 32, points: 18, assists: 3, rebounds: 6, turnovers: 1}]-> (nets),\n",
    "        (russell)-[:PLAYED_AGAINST {minutes: 26, points: 26, assists: 11, rebounds: 13, turnovers: 6}]-> (nets),\n",
    "        (anthony)-[:PLAYED_AGAINST {minutes: 30, points: 26, assists: 7, rebounds: 18, turnovers: 3}]-> (nets),\n",
    "        (kevin)-[:PLAYED_AGAINST {minutes: 43, points: 45, assists: 5, rebounds: 8, turnovers: 2}]-> (lakers),\n",
    "        (james)-[:PLAYED_AGAINST {minutes: 46, points: 35, assists: 13, rebounds: 4, turnovers: 7}]-> (lakers),\n",
    "\n",
    "        (kevin)-[:PLAYED_AGAINST {minutes: 34, points: 37, assists: 2, rebounds: 12, turnovers: 1}]-> (memphis),\n",
    "        (james)-[:PLAYED_AGAINST {minutes: 46, points: 35, assists: 13, rebounds: 4, turnovers: 7}]-> (memphis),\n",
    "        (ja)-[:PLAYED_AGAINST {minutes: 26, points: 32, assists: 13, rebounds: 6, turnovers: 2}]-> (nets),\n",
    "\n",
    "\n",
    "        (luka)-[:PLAYED_AGAINST {minutes: 44, points: 23, assists: 7, rebounds: 13, turnovers: 8}]-> (bucks),\n",
    "        (kristaps)-[:PLAYED_AGAINST {minutes: 24, points: 16, assists: 2, rebounds: 12, turnovers: 0}]-> (bucks),\n",
    "        (giannis)-[:PLAYED_AGAINST {minutes: 33, points: 26, assists: 16, rebounds: 18, turnovers: 5}]-> (mavericks),\n",
    "        (khris)-[:PLAYED_AGAINST {minutes: 46, points: 35, assists: 3, rebounds: 4, turnovers: 3}]-> (mavericks),\n",
    "\n",
    "        (luka)-[:PLAYED_AGAINST {minutes: 33, points: 28, assists: 6, rebounds: 3, turnovers: 3}]-> (sixers),\n",
    "        (kristaps)-[:PLAYED_AGAINST {minutes: 24, points: 18, assists: 4, rebounds: 11, turnovers: 1}]-> (sixers),\n",
    "        (joel)-[:PLAYED_AGAINST {minutes: 25, points: 29, assists: 7, rebounds: 22, turnovers: 2}]-> (mavericks),\n",
    "        (tobias)-[:PLAYED_AGAINST {minutes: 34, points: 18, assists: 13, rebounds: 4, turnovers: 0}]-> (mavericks),\n",
    "\n",
    "        (giannis)-[:PLAYED_AGAINST {minutes: 45, points: 36, assists: 5, rebounds: 12, turnovers: 3}]-> (sixers),\n",
    "        (khris)-[:PLAYED_AGAINST {minutes: 35, points: 22, assists: 5, rebounds: 6, turnovers: 0}]-> (sixers),\n",
    "        (joel)-[:PLAYED_AGAINST {minutes: 33, points: 23, assists: 3, rebounds: 10, turnovers: 3}]-> (bucks),\n",
    "        (tobias)-[:PLAYED_AGAINST {minutes: 38, points: 23, assists: 4, rebounds: 5, turnovers: 1}]-> (bucks),\n",
    "\n",
    "        (kevin)-[:PLAYED_AGAINST {minutes: 29, points: 28, assists: 6, rebounds: 8, turnovers: 0}]-> (mavericks),\n",
    "        (james)-[:PLAYED_AGAINST {minutes: 35, points: 17, assists: 10, rebounds: 8, turnovers: 5}]-> (mavericks),\n",
    "        (luka)-[:PLAYED_AGAINST {minutes: 37, points: 35, assists: 6, rebounds: 11, turnovers: 4}]-> (nets),\n",
    "        (kristaps)-[:PLAYED_AGAINST {minutes: 34, points: 27, assists: 4, rebounds: 8, turnovers: 0}]-> (nets),\n",
    "\n",
    "        (lebron)-[:PLAYED_AGAINST {minutes: 32, points: 27, assists: 12, rebounds: 10, turnovers: 4}]-> (sixers),\n",
    "        (russell)-[:PLAYED_AGAINST {minutes: 25, points: 19, assists: 9, rebounds: 14, turnovers: 5}]-> (sixers),\n",
    "        (anthony)-[:PLAYED_AGAINST {minutes: 32, points: 22, assists: 7, rebounds: 12, turnovers: 2}]-> (sixers),\n",
    "        (joel)-[:PLAYED_AGAINST {minutes: 36, points: 36, assists: 7, rebounds: 12, turnovers: 0}]-> (lakers),\n",
    "        (tobias)-[:PLAYED_AGAINST {minutes: 32, points: 22, assists: 1, rebounds: 7, turnovers: 0}]-> (lakers);\n",
    "        \"\"\""
   ]
  },
  {
   "cell_type": "code",
   "execution_count": 7,
   "id": "b1920d01-b6ac-4128-a7fc-41e9c8033459",
   "metadata": {},
   "outputs": [],
   "source": [
    "summary = driver.execute_query(table_creation_query).summary"
   ]
  },
  {
   "cell_type": "code",
   "execution_count": 8,
   "id": "a6ddb7ca",
   "metadata": {},
   "outputs": [
    {
     "name": "stdout",
     "output_type": "stream",
     "text": [
      "Created 25 nodes, 25 labels and 81 relationships in 1075 ms.\n"
     ]
    }
   ],
   "source": [
    "print(\"Created {nodes_created} nodes, {labels_added} labels and {relations_created} relationships in {time} ms.\".format(\n",
    "    nodes_created=summary.counters.nodes_created,\n",
    "    labels_added=summary.counters.labels_added,\n",
    "    relations_created=summary.counters.relationships_created,\n",
    "    time=summary.result_available_after\n",
    "))"
   ]
  },
  {
   "cell_type": "markdown",
   "id": "c8ef7d84-5970-4c84-b42b-9cbc15cbdc8b",
   "metadata": {},
   "source": [
    "## Read from database\n",
    "\n",
    "After writing a new nodes and relations in our database, let's read it and execute some complex queries on our database."
   ]
  },
  {
   "cell_type": "markdown",
   "id": "8fae5f27-c9c9-4754-96e7-404b8b07f68b",
   "metadata": {},
   "source": [
    "**First read all players present in our database.**"
   ]
  },
  {
   "cell_type": "code",
   "execution_count": 9,
   "id": "01e6590b-f73d-46f3-835f-dd82bf5d3e19",
   "metadata": {
    "scrolled": true
   },
   "outputs": [
    {
     "name": "stdout",
     "output_type": "stream",
     "text": [
      "Total players present in database \t: 56\n",
      "Russell Westbrook\n",
      "LeBron James\n",
      "Anthony Davis\n",
      "Russell Westbrook\n",
      "Luka Doncic\n",
      "Kristaps Porzingis\n",
      "Kevin Durant\n",
      "James Harden\n",
      "Giannis Antetokounmpo\n",
      "Khris Middleton\n",
      "Joel Embiid\n",
      "Tobias Harris\n",
      "Russell Westbrook\n",
      "LeBron James\n",
      "Anthony Davis\n",
      "LeBron James\n",
      "Luka Doncic\n",
      "Kristaps Porzingis\n",
      "Kevin Durant\n",
      "James Harden\n",
      "Giannis Antetokounmpo\n",
      "Khris Middleton\n",
      "Joel Embiid\n",
      "Tobias Harris\n",
      "Russell Westbrook\n",
      "LeBron James\n",
      "Anthony Davis\n",
      "Anthony Davis\n",
      "Luka Doncic\n",
      "Kristaps Porzingis\n",
      "Kevin Durant\n",
      "James Harden\n",
      "Giannis Antetokounmpo\n",
      "Khris Middleton\n",
      "Joel Embiid\n",
      "Tobias Harris\n",
      "Russell Westbrook\n",
      "Luka Doncic\n",
      "Kristaps Porzingis\n",
      "Kevin Durant\n",
      "James Harden\n",
      "Giannis Antetokounmpo\n",
      "Khris Middleton\n",
      "Joel Embiid\n",
      "Tobias Harris\n",
      "LeBron James\n",
      "Anthony Davis\n",
      "Ja Morant\n",
      "Luka Doncic\n",
      "Kristaps Porzingis\n",
      "Kevin Durant\n",
      "James Harden\n",
      "Giannis Antetokounmpo\n",
      "Khris Middleton\n",
      "Joel Embiid\n",
      "Tobias Harris\n"
     ]
    }
   ],
   "source": [
    "player_query = \"\"\"\n",
    "        MATCH (player:PLAYER)\n",
    "        RETURN player\n",
    "        \"\"\"\n",
    "\n",
    "records, summary, keys = driver.execute_query(player_query)\n",
    "\n",
    "print(\"Total players present in database \\t:\",len(records))\n",
    "\n",
    "for record in records:\n",
    "    print(record[\"player\"][\"name\"])"
   ]
  },
  {
   "cell_type": "code",
   "execution_count": 34,
   "id": "74870046-bad7-4c62-8987-879ef0328668",
   "metadata": {},
   "outputs": [
    {
     "data": {
      "text/plain": [
       "['player']"
      ]
     },
     "execution_count": 34,
     "metadata": {},
     "output_type": "execute_result"
    }
   ],
   "source": [
    "keys"
   ]
  },
  {
   "cell_type": "markdown",
   "id": "729276c2-d11f-435c-afc5-6045c5d41be2",
   "metadata": {},
   "source": [
    "Simlar to the player, let's check the teams and coach present in our database."
   ]
  },
  {
   "cell_type": "code",
   "execution_count": 10,
   "id": "95e2ad5b-538a-48ba-8cb6-532118cae33b",
   "metadata": {
    "scrolled": true
   },
   "outputs": [
    {
     "name": "stdout",
     "output_type": "stream",
     "text": [
      "Total coachs present in database \t: 35\n",
      "\n",
      "Frank Vogel\n",
      "Taylor Jenkins\n",
      "Jason Kidd\n",
      "Steve Nash\n",
      "Mike Budenholzer\n",
      "Doc Rivers\n",
      "Stan Van Gundy\n",
      "Frank Vogel\n",
      "Taylor Jenkins\n",
      "Jason Kidd\n",
      "Steve Nash\n",
      "Mike Budenholzer\n",
      "Doc Rivers\n",
      "Stan Van Gundy\n",
      "Frank Vogel\n",
      "Taylor Jenkins\n",
      "Jason Kidd\n",
      "Steve Nash\n",
      "Mike Budenholzer\n",
      "Doc Rivers\n",
      "Stan Van Gundy\n",
      "Frank Vogel\n",
      "Taylor Jenkins\n",
      "Jason Kidd\n",
      "Steve Nash\n",
      "Mike Budenholzer\n",
      "Doc Rivers\n",
      "Stan Van Gundy\n",
      "Frank Vogel\n",
      "Taylor Jenkins\n",
      "Jason Kidd\n",
      "Steve Nash\n",
      "Mike Budenholzer\n",
      "Doc Rivers\n",
      "Stan Van Gundy\n"
     ]
    }
   ],
   "source": [
    "coach_query = \"\"\"MATCH (coach:COACH) RETURN coach\"\"\" \n",
    "\n",
    "records, summary, keys = driver.execute_query(coach_query)\n",
    "\n",
    "print(\"Total coachs present in database \\t:\",len(records), end=\"\\n\\n\")\n",
    "\n",
    "for record in records:\n",
    "    print(record[\"coach\"][\"name\"])"
   ]
  },
  {
   "cell_type": "code",
   "execution_count": 11,
   "id": "a351b299-505b-42f7-a126-382b31bff4e8",
   "metadata": {
    "scrolled": true
   },
   "outputs": [
    {
     "name": "stdout",
     "output_type": "stream",
     "text": [
      "Total teams present in database \t: 30\n",
      "\n",
      "LA Lakers\n",
      "Memphis Grizzlies\n",
      "Dallas Mavericks\n",
      "Brooklyn Nets\n",
      "Milwaukee Bucks\n",
      "Philadelphia 76ers\n",
      "LA Lakers\n",
      "Memphis Grizzlies\n",
      "Dallas Mavericks\n",
      "Brooklyn Nets\n",
      "Milwaukee Bucks\n",
      "Philadelphia 76ers\n",
      "LA Lakers\n",
      "Memphis Grizzlies\n",
      "Dallas Mavericks\n",
      "Brooklyn Nets\n",
      "Milwaukee Bucks\n",
      "Philadelphia 76ers\n",
      "LA Lakers\n",
      "Memphis Grizzlies\n",
      "Dallas Mavericks\n",
      "Brooklyn Nets\n",
      "Milwaukee Bucks\n",
      "Philadelphia 76ers\n",
      "LA Lakers\n",
      "Memphis Grizzlies\n",
      "Dallas Mavericks\n",
      "Brooklyn Nets\n",
      "Milwaukee Bucks\n",
      "Philadelphia 76ers\n"
     ]
    }
   ],
   "source": [
    "team_query = \"\"\"MATCH (team:TEAM) RETURN team\"\"\" \n",
    "\n",
    "records, summary, keys = driver.execute_query(team_query)\n",
    "\n",
    "print(\"Total teams present in database \\t:\",len(records), end=\"\\n\\n\")\n",
    "\n",
    "for record in records:\n",
    "    print(record[\"team\"][\"name\"])"
   ]
  },
  {
   "cell_type": "markdown",
   "id": "87e9f795-5d84-4504-964f-c0c8b1bcf12f",
   "metadata": {},
   "source": [
    "**So, there are 36 players, 21 coachs and 18 teams present in our database now.**"
   ]
  },
  {
   "cell_type": "markdown",
   "id": "6d7e6c48-e77c-479d-a42d-7c7f69b34828",
   "metadata": {},
   "source": [
    "**Now, let's see which coach train which player and a player play_for to which team.**"
   ]
  },
  {
   "cell_type": "code",
   "execution_count": 12,
   "id": "10c1e331-8f82-4062-8559-ccdd78c31949",
   "metadata": {
    "scrolled": true
   },
   "outputs": [
    {
     "data": {
      "text/html": [
       "<div>\n",
       "<style scoped>\n",
       "    .dataframe tbody tr th:only-of-type {\n",
       "        vertical-align: middle;\n",
       "    }\n",
       "\n",
       "    .dataframe tbody tr th {\n",
       "        vertical-align: top;\n",
       "    }\n",
       "\n",
       "    .dataframe thead th {\n",
       "        text-align: right;\n",
       "    }\n",
       "</style>\n",
       "<table border=\"1\" class=\"dataframe\">\n",
       "  <thead>\n",
       "    <tr style=\"text-align: right;\">\n",
       "      <th></th>\n",
       "      <th>Player</th>\n",
       "      <th>Team</th>\n",
       "      <th>Coach</th>\n",
       "    </tr>\n",
       "  </thead>\n",
       "  <tbody>\n",
       "    <tr>\n",
       "      <th>0</th>\n",
       "      <td>Anthony Davis</td>\n",
       "      <td>LA Lakers</td>\n",
       "      <td>Frank Vogel</td>\n",
       "    </tr>\n",
       "    <tr>\n",
       "      <th>1</th>\n",
       "      <td>Russell Westbrook</td>\n",
       "      <td>LA Lakers</td>\n",
       "      <td>Frank Vogel</td>\n",
       "    </tr>\n",
       "    <tr>\n",
       "      <th>2</th>\n",
       "      <td>LeBron James</td>\n",
       "      <td>LA Lakers</td>\n",
       "      <td>Frank Vogel</td>\n",
       "    </tr>\n",
       "    <tr>\n",
       "      <th>3</th>\n",
       "      <td>Kristaps Porzingis</td>\n",
       "      <td>Dallas Mavericks</td>\n",
       "      <td>Jason Kidd</td>\n",
       "    </tr>\n",
       "    <tr>\n",
       "      <th>4</th>\n",
       "      <td>Luka Doncic</td>\n",
       "      <td>Dallas Mavericks</td>\n",
       "      <td>Jason Kidd</td>\n",
       "    </tr>\n",
       "    <tr>\n",
       "      <th>5</th>\n",
       "      <td>James Harden</td>\n",
       "      <td>Brooklyn Nets</td>\n",
       "      <td>Steve Nash</td>\n",
       "    </tr>\n",
       "    <tr>\n",
       "      <th>6</th>\n",
       "      <td>Kevin Durant</td>\n",
       "      <td>Brooklyn Nets</td>\n",
       "      <td>Steve Nash</td>\n",
       "    </tr>\n",
       "    <tr>\n",
       "      <th>7</th>\n",
       "      <td>Giannis Antetokounmpo</td>\n",
       "      <td>Milwaukee Bucks</td>\n",
       "      <td>Mike Budenholzer</td>\n",
       "    </tr>\n",
       "    <tr>\n",
       "      <th>8</th>\n",
       "      <td>Khris Middleton</td>\n",
       "      <td>Milwaukee Bucks</td>\n",
       "      <td>Mike Budenholzer</td>\n",
       "    </tr>\n",
       "    <tr>\n",
       "      <th>9</th>\n",
       "      <td>Tobias Harris</td>\n",
       "      <td>Philadelphia 76ers</td>\n",
       "      <td>Doc Rivers</td>\n",
       "    </tr>\n",
       "    <tr>\n",
       "      <th>10</th>\n",
       "      <td>Russell Westbrook</td>\n",
       "      <td>LA Lakers</td>\n",
       "      <td>Frank Vogel</td>\n",
       "    </tr>\n",
       "    <tr>\n",
       "      <th>11</th>\n",
       "      <td>Anthony Davis</td>\n",
       "      <td>LA Lakers</td>\n",
       "      <td>Frank Vogel</td>\n",
       "    </tr>\n",
       "    <tr>\n",
       "      <th>12</th>\n",
       "      <td>LeBron James</td>\n",
       "      <td>LA Lakers</td>\n",
       "      <td>Frank Vogel</td>\n",
       "    </tr>\n",
       "    <tr>\n",
       "      <th>13</th>\n",
       "      <td>Luka Doncic</td>\n",
       "      <td>Dallas Mavericks</td>\n",
       "      <td>Jason Kidd</td>\n",
       "    </tr>\n",
       "    <tr>\n",
       "      <th>14</th>\n",
       "      <td>Kristaps Porzingis</td>\n",
       "      <td>Dallas Mavericks</td>\n",
       "      <td>Jason Kidd</td>\n",
       "    </tr>\n",
       "    <tr>\n",
       "      <th>15</th>\n",
       "      <td>Kevin Durant</td>\n",
       "      <td>Brooklyn Nets</td>\n",
       "      <td>Steve Nash</td>\n",
       "    </tr>\n",
       "    <tr>\n",
       "      <th>16</th>\n",
       "      <td>James Harden</td>\n",
       "      <td>Brooklyn Nets</td>\n",
       "      <td>Steve Nash</td>\n",
       "    </tr>\n",
       "    <tr>\n",
       "      <th>17</th>\n",
       "      <td>Giannis Antetokounmpo</td>\n",
       "      <td>Milwaukee Bucks</td>\n",
       "      <td>Mike Budenholzer</td>\n",
       "    </tr>\n",
       "    <tr>\n",
       "      <th>18</th>\n",
       "      <td>Khris Middleton</td>\n",
       "      <td>Milwaukee Bucks</td>\n",
       "      <td>Mike Budenholzer</td>\n",
       "    </tr>\n",
       "    <tr>\n",
       "      <th>19</th>\n",
       "      <td>Tobias Harris</td>\n",
       "      <td>Philadelphia 76ers</td>\n",
       "      <td>Doc Rivers</td>\n",
       "    </tr>\n",
       "    <tr>\n",
       "      <th>20</th>\n",
       "      <td>Russell Westbrook</td>\n",
       "      <td>LA Lakers</td>\n",
       "      <td>Frank Vogel</td>\n",
       "    </tr>\n",
       "    <tr>\n",
       "      <th>21</th>\n",
       "      <td>LeBron James</td>\n",
       "      <td>LA Lakers</td>\n",
       "      <td>Frank Vogel</td>\n",
       "    </tr>\n",
       "    <tr>\n",
       "      <th>22</th>\n",
       "      <td>Anthony Davis</td>\n",
       "      <td>LA Lakers</td>\n",
       "      <td>Frank Vogel</td>\n",
       "    </tr>\n",
       "    <tr>\n",
       "      <th>23</th>\n",
       "      <td>Luka Doncic</td>\n",
       "      <td>Dallas Mavericks</td>\n",
       "      <td>Jason Kidd</td>\n",
       "    </tr>\n",
       "    <tr>\n",
       "      <th>24</th>\n",
       "      <td>Kristaps Porzingis</td>\n",
       "      <td>Dallas Mavericks</td>\n",
       "      <td>Jason Kidd</td>\n",
       "    </tr>\n",
       "    <tr>\n",
       "      <th>25</th>\n",
       "      <td>James Harden</td>\n",
       "      <td>Brooklyn Nets</td>\n",
       "      <td>Steve Nash</td>\n",
       "    </tr>\n",
       "    <tr>\n",
       "      <th>26</th>\n",
       "      <td>Kevin Durant</td>\n",
       "      <td>Brooklyn Nets</td>\n",
       "      <td>Steve Nash</td>\n",
       "    </tr>\n",
       "    <tr>\n",
       "      <th>27</th>\n",
       "      <td>Giannis Antetokounmpo</td>\n",
       "      <td>Milwaukee Bucks</td>\n",
       "      <td>Mike Budenholzer</td>\n",
       "    </tr>\n",
       "    <tr>\n",
       "      <th>28</th>\n",
       "      <td>Khris Middleton</td>\n",
       "      <td>Milwaukee Bucks</td>\n",
       "      <td>Mike Budenholzer</td>\n",
       "    </tr>\n",
       "    <tr>\n",
       "      <th>29</th>\n",
       "      <td>Tobias Harris</td>\n",
       "      <td>Philadelphia 76ers</td>\n",
       "      <td>Doc Rivers</td>\n",
       "    </tr>\n",
       "    <tr>\n",
       "      <th>30</th>\n",
       "      <td>Russell Westbrook</td>\n",
       "      <td>LA Lakers</td>\n",
       "      <td>Frank Vogel</td>\n",
       "    </tr>\n",
       "    <tr>\n",
       "      <th>31</th>\n",
       "      <td>LeBron James</td>\n",
       "      <td>LA Lakers</td>\n",
       "      <td>Frank Vogel</td>\n",
       "    </tr>\n",
       "    <tr>\n",
       "      <th>32</th>\n",
       "      <td>Anthony Davis</td>\n",
       "      <td>LA Lakers</td>\n",
       "      <td>Frank Vogel</td>\n",
       "    </tr>\n",
       "    <tr>\n",
       "      <th>33</th>\n",
       "      <td>Kristaps Porzingis</td>\n",
       "      <td>Dallas Mavericks</td>\n",
       "      <td>Jason Kidd</td>\n",
       "    </tr>\n",
       "    <tr>\n",
       "      <th>34</th>\n",
       "      <td>Luka Doncic</td>\n",
       "      <td>Dallas Mavericks</td>\n",
       "      <td>Jason Kidd</td>\n",
       "    </tr>\n",
       "    <tr>\n",
       "      <th>35</th>\n",
       "      <td>Kevin Durant</td>\n",
       "      <td>Brooklyn Nets</td>\n",
       "      <td>Steve Nash</td>\n",
       "    </tr>\n",
       "    <tr>\n",
       "      <th>36</th>\n",
       "      <td>James Harden</td>\n",
       "      <td>Brooklyn Nets</td>\n",
       "      <td>Steve Nash</td>\n",
       "    </tr>\n",
       "    <tr>\n",
       "      <th>37</th>\n",
       "      <td>Giannis Antetokounmpo</td>\n",
       "      <td>Milwaukee Bucks</td>\n",
       "      <td>Mike Budenholzer</td>\n",
       "    </tr>\n",
       "    <tr>\n",
       "      <th>38</th>\n",
       "      <td>Khris Middleton</td>\n",
       "      <td>Milwaukee Bucks</td>\n",
       "      <td>Mike Budenholzer</td>\n",
       "    </tr>\n",
       "    <tr>\n",
       "      <th>39</th>\n",
       "      <td>Tobias Harris</td>\n",
       "      <td>Philadelphia 76ers</td>\n",
       "      <td>Doc Rivers</td>\n",
       "    </tr>\n",
       "    <tr>\n",
       "      <th>40</th>\n",
       "      <td>LeBron James</td>\n",
       "      <td>LA Lakers</td>\n",
       "      <td>Frank Vogel</td>\n",
       "    </tr>\n",
       "    <tr>\n",
       "      <th>41</th>\n",
       "      <td>Anthony Davis</td>\n",
       "      <td>LA Lakers</td>\n",
       "      <td>Frank Vogel</td>\n",
       "    </tr>\n",
       "    <tr>\n",
       "      <th>42</th>\n",
       "      <td>Russell Westbrook</td>\n",
       "      <td>LA Lakers</td>\n",
       "      <td>Frank Vogel</td>\n",
       "    </tr>\n",
       "    <tr>\n",
       "      <th>43</th>\n",
       "      <td>Ja Morant</td>\n",
       "      <td>Memphis Grizzlies</td>\n",
       "      <td>Taylor Jenkins</td>\n",
       "    </tr>\n",
       "    <tr>\n",
       "      <th>44</th>\n",
       "      <td>Luka Doncic</td>\n",
       "      <td>Dallas Mavericks</td>\n",
       "      <td>Jason Kidd</td>\n",
       "    </tr>\n",
       "    <tr>\n",
       "      <th>45</th>\n",
       "      <td>Kristaps Porzingis</td>\n",
       "      <td>Dallas Mavericks</td>\n",
       "      <td>Jason Kidd</td>\n",
       "    </tr>\n",
       "    <tr>\n",
       "      <th>46</th>\n",
       "      <td>Kevin Durant</td>\n",
       "      <td>Brooklyn Nets</td>\n",
       "      <td>Steve Nash</td>\n",
       "    </tr>\n",
       "    <tr>\n",
       "      <th>47</th>\n",
       "      <td>James Harden</td>\n",
       "      <td>Brooklyn Nets</td>\n",
       "      <td>Steve Nash</td>\n",
       "    </tr>\n",
       "    <tr>\n",
       "      <th>48</th>\n",
       "      <td>Khris Middleton</td>\n",
       "      <td>Milwaukee Bucks</td>\n",
       "      <td>Mike Budenholzer</td>\n",
       "    </tr>\n",
       "    <tr>\n",
       "      <th>49</th>\n",
       "      <td>Giannis Antetokounmpo</td>\n",
       "      <td>Milwaukee Bucks</td>\n",
       "      <td>Mike Budenholzer</td>\n",
       "    </tr>\n",
       "    <tr>\n",
       "      <th>50</th>\n",
       "      <td>Tobias Harris</td>\n",
       "      <td>Philadelphia 76ers</td>\n",
       "      <td>Doc Rivers</td>\n",
       "    </tr>\n",
       "    <tr>\n",
       "      <th>51</th>\n",
       "      <td>Joel Embiid</td>\n",
       "      <td>Philadelphia 76ers</td>\n",
       "      <td>Doc Rivers</td>\n",
       "    </tr>\n",
       "  </tbody>\n",
       "</table>\n",
       "</div>"
      ],
      "text/plain": [
       "                   Player                Team             Coach\n",
       "0           Anthony Davis           LA Lakers       Frank Vogel\n",
       "1       Russell Westbrook           LA Lakers       Frank Vogel\n",
       "2            LeBron James           LA Lakers       Frank Vogel\n",
       "3      Kristaps Porzingis    Dallas Mavericks        Jason Kidd\n",
       "4             Luka Doncic    Dallas Mavericks        Jason Kidd\n",
       "5            James Harden       Brooklyn Nets        Steve Nash\n",
       "6            Kevin Durant       Brooklyn Nets        Steve Nash\n",
       "7   Giannis Antetokounmpo     Milwaukee Bucks  Mike Budenholzer\n",
       "8         Khris Middleton     Milwaukee Bucks  Mike Budenholzer\n",
       "9           Tobias Harris  Philadelphia 76ers        Doc Rivers\n",
       "10      Russell Westbrook           LA Lakers       Frank Vogel\n",
       "11          Anthony Davis           LA Lakers       Frank Vogel\n",
       "12           LeBron James           LA Lakers       Frank Vogel\n",
       "13            Luka Doncic    Dallas Mavericks        Jason Kidd\n",
       "14     Kristaps Porzingis    Dallas Mavericks        Jason Kidd\n",
       "15           Kevin Durant       Brooklyn Nets        Steve Nash\n",
       "16           James Harden       Brooklyn Nets        Steve Nash\n",
       "17  Giannis Antetokounmpo     Milwaukee Bucks  Mike Budenholzer\n",
       "18        Khris Middleton     Milwaukee Bucks  Mike Budenholzer\n",
       "19          Tobias Harris  Philadelphia 76ers        Doc Rivers\n",
       "20      Russell Westbrook           LA Lakers       Frank Vogel\n",
       "21           LeBron James           LA Lakers       Frank Vogel\n",
       "22          Anthony Davis           LA Lakers       Frank Vogel\n",
       "23            Luka Doncic    Dallas Mavericks        Jason Kidd\n",
       "24     Kristaps Porzingis    Dallas Mavericks        Jason Kidd\n",
       "25           James Harden       Brooklyn Nets        Steve Nash\n",
       "26           Kevin Durant       Brooklyn Nets        Steve Nash\n",
       "27  Giannis Antetokounmpo     Milwaukee Bucks  Mike Budenholzer\n",
       "28        Khris Middleton     Milwaukee Bucks  Mike Budenholzer\n",
       "29          Tobias Harris  Philadelphia 76ers        Doc Rivers\n",
       "30      Russell Westbrook           LA Lakers       Frank Vogel\n",
       "31           LeBron James           LA Lakers       Frank Vogel\n",
       "32          Anthony Davis           LA Lakers       Frank Vogel\n",
       "33     Kristaps Porzingis    Dallas Mavericks        Jason Kidd\n",
       "34            Luka Doncic    Dallas Mavericks        Jason Kidd\n",
       "35           Kevin Durant       Brooklyn Nets        Steve Nash\n",
       "36           James Harden       Brooklyn Nets        Steve Nash\n",
       "37  Giannis Antetokounmpo     Milwaukee Bucks  Mike Budenholzer\n",
       "38        Khris Middleton     Milwaukee Bucks  Mike Budenholzer\n",
       "39          Tobias Harris  Philadelphia 76ers        Doc Rivers\n",
       "40           LeBron James           LA Lakers       Frank Vogel\n",
       "41          Anthony Davis           LA Lakers       Frank Vogel\n",
       "42      Russell Westbrook           LA Lakers       Frank Vogel\n",
       "43              Ja Morant   Memphis Grizzlies    Taylor Jenkins\n",
       "44            Luka Doncic    Dallas Mavericks        Jason Kidd\n",
       "45     Kristaps Porzingis    Dallas Mavericks        Jason Kidd\n",
       "46           Kevin Durant       Brooklyn Nets        Steve Nash\n",
       "47           James Harden       Brooklyn Nets        Steve Nash\n",
       "48        Khris Middleton     Milwaukee Bucks  Mike Budenholzer\n",
       "49  Giannis Antetokounmpo     Milwaukee Bucks  Mike Budenholzer\n",
       "50          Tobias Harris  Philadelphia 76ers        Doc Rivers\n",
       "51            Joel Embiid  Philadelphia 76ers        Doc Rivers"
      ]
     },
     "execution_count": 12,
     "metadata": {},
     "output_type": "execute_result"
    }
   ],
   "source": [
    "general_relation_query = \"\"\"\n",
    "                         MATCH (player:PLAYER) -[:PLAYS_FOR]-> (team:TEAM)\n",
    "                         MATCH (coach:COACH) -[:COACHES]->  (player:PLAYER) \n",
    "                         RETURN player, team, coach\n",
    "                         \"\"\"\n",
    "\n",
    "records, summary, keys = driver.execute_query(general_relation_query)\n",
    "\n",
    "# print(\"Total teams present in database \\t:\",len(records), end=\"\\n\\n\")\n",
    "\n",
    "# Let's build a dataframe for nice look\n",
    "\n",
    "df = pd.DataFrame(\n",
    "    {\n",
    "        \"Player\" : [record[\"player\"][\"name\"] for record in records],\n",
    "        \"Team\" : [record[\"team\"][\"name\"] for record in records],\n",
    "        \"Coach\" : [record[\"coach\"][\"name\"] for record in records],\n",
    "    }\n",
    ")\n",
    "df    "
   ]
  },
  {
   "cell_type": "code",
   "execution_count": 16,
   "id": "fd4f6fc2-d261-45d4-8101-3af86858c011",
   "metadata": {},
   "outputs": [
    {
     "data": {
      "text/html": [
       "<div>\n",
       "<style scoped>\n",
       "    .dataframe tbody tr th:only-of-type {\n",
       "        vertical-align: middle;\n",
       "    }\n",
       "\n",
       "    .dataframe tbody tr th {\n",
       "        vertical-align: top;\n",
       "    }\n",
       "\n",
       "    .dataframe thead th {\n",
       "        text-align: right;\n",
       "    }\n",
       "</style>\n",
       "<table border=\"1\" class=\"dataframe\">\n",
       "  <thead>\n",
       "    <tr style=\"text-align: right;\">\n",
       "      <th></th>\n",
       "      <th></th>\n",
       "      <th></th>\n",
       "      <th>Player</th>\n",
       "    </tr>\n",
       "    <tr>\n",
       "      <th>Team</th>\n",
       "      <th>Coach</th>\n",
       "      <th></th>\n",
       "      <th></th>\n",
       "    </tr>\n",
       "  </thead>\n",
       "  <tbody>\n",
       "    <tr>\n",
       "      <th rowspan=\"6\" valign=\"top\">Brooklyn Nets</th>\n",
       "      <th rowspan=\"6\" valign=\"top\">Steve Nash</th>\n",
       "      <th>5</th>\n",
       "      <td>James Harden</td>\n",
       "    </tr>\n",
       "    <tr>\n",
       "      <th>6</th>\n",
       "      <td>Kevin Durant</td>\n",
       "    </tr>\n",
       "    <tr>\n",
       "      <th>15</th>\n",
       "      <td>Kevin Durant</td>\n",
       "    </tr>\n",
       "    <tr>\n",
       "      <th>16</th>\n",
       "      <td>James Harden</td>\n",
       "    </tr>\n",
       "    <tr>\n",
       "      <th>25</th>\n",
       "      <td>James Harden</td>\n",
       "    </tr>\n",
       "    <tr>\n",
       "      <th>26</th>\n",
       "      <td>Kevin Durant</td>\n",
       "    </tr>\n",
       "  </tbody>\n",
       "</table>\n",
       "</div>"
      ],
      "text/plain": [
       "                                   Player\n",
       "Team          Coach                      \n",
       "Brooklyn Nets Steve Nash 5   James Harden\n",
       "                         6   Kevin Durant\n",
       "                         15  Kevin Durant\n",
       "                         16  James Harden\n",
       "                         25  James Harden\n",
       "                         26  Kevin Durant"
      ]
     },
     "execution_count": 16,
     "metadata": {},
     "output_type": "execute_result"
    }
   ],
   "source": [
    "df.groupby([\"Team\", \"Coach\"], group_keys=True)[[\"Player\"]].apply(lambda x:x).head(6) # Print the first Team"
   ]
  },
  {
   "cell_type": "markdown",
   "id": "ac79be5d-6f2a-46bd-b4d7-bfc7840e2a30",
   "metadata": {},
   "source": [
    "**Now, let's retrive the player whose IBM index is greater than or equal to 25.**"
   ]
  },
  {
   "cell_type": "code",
   "execution_count": 17,
   "id": "2cbc998a-a6cc-4d26-9496-2091bf195949",
   "metadata": {
    "scrolled": true
   },
   "outputs": [
    {
     "name": "stdout",
     "output_type": "stream",
     "text": [
      "Total players present in database \t: 30\n",
      "LeBron James\n",
      "Anthony Davis\n",
      "Luka Doncic\n",
      "Kevin Durant\n",
      "James Harden\n",
      "Joel Embiid\n",
      "LeBron James\n",
      "Anthony Davis\n",
      "LeBron James\n",
      "Luka Doncic\n",
      "Kevin Durant\n",
      "James Harden\n",
      "Joel Embiid\n",
      "LeBron James\n",
      "Anthony Davis\n",
      "Anthony Davis\n",
      "Luka Doncic\n",
      "Kevin Durant\n",
      "James Harden\n",
      "Joel Embiid\n",
      "Luka Doncic\n",
      "Kevin Durant\n",
      "James Harden\n",
      "Joel Embiid\n",
      "LeBron James\n",
      "Anthony Davis\n",
      "Luka Doncic\n",
      "Kevin Durant\n",
      "James Harden\n",
      "Joel Embiid\n"
     ]
    }
   ],
   "source": [
    "player_query = \"\"\"\n",
    "        MATCH (player:PLAYER)\n",
    "        WHERE (player.weight / (player.height * player.height)) >= 25\n",
    "        RETURN player\n",
    "        \"\"\"\n",
    "\n",
    "records, summary, keys = driver.execute_query(player_query)\n",
    "\n",
    "print(\"Total players present in database \\t:\",len(records))\n",
    "\n",
    "for record in records:\n",
    "    print(record[\"player\"][\"name\"])"
   ]
  },
  {
   "cell_type": "markdown",
   "id": "f273fda0-e618-4732-ac75-319316a7bcd8",
   "metadata": {},
   "source": [
    "So, out of 36 there are 50% of (18) player whose IBM are greater than or equal to 25 !"
   ]
  },
  {
   "cell_type": "markdown",
   "id": "367b6702-c266-40e9-8b81-35ddff69dbc7",
   "metadata": {},
   "source": [
    "**Now, let's order the players name according to their height!**"
   ]
  },
  {
   "cell_type": "code",
   "execution_count": 18,
   "id": "27675f0f-d2de-46c5-9690-6cde7d03c288",
   "metadata": {},
   "outputs": [
    {
     "data": {
      "text/html": [
       "<div>\n",
       "<style scoped>\n",
       "    .dataframe tbody tr th:only-of-type {\n",
       "        vertical-align: middle;\n",
       "    }\n",
       "\n",
       "    .dataframe tbody tr th {\n",
       "        vertical-align: top;\n",
       "    }\n",
       "\n",
       "    .dataframe thead th {\n",
       "        text-align: right;\n",
       "    }\n",
       "</style>\n",
       "<table border=\"1\" class=\"dataframe\">\n",
       "  <thead>\n",
       "    <tr style=\"text-align: right;\">\n",
       "      <th></th>\n",
       "      <th>Player</th>\n",
       "      <th>Height</th>\n",
       "    </tr>\n",
       "  </thead>\n",
       "  <tbody>\n",
       "    <tr>\n",
       "      <th>0</th>\n",
       "      <td>Kristaps Porzingis</td>\n",
       "      <td>2.21</td>\n",
       "    </tr>\n",
       "    <tr>\n",
       "      <th>1</th>\n",
       "      <td>Kristaps Porzingis</td>\n",
       "      <td>2.21</td>\n",
       "    </tr>\n",
       "    <tr>\n",
       "      <th>2</th>\n",
       "      <td>Kristaps Porzingis</td>\n",
       "      <td>2.21</td>\n",
       "    </tr>\n",
       "    <tr>\n",
       "      <th>3</th>\n",
       "      <td>Kristaps Porzingis</td>\n",
       "      <td>2.21</td>\n",
       "    </tr>\n",
       "    <tr>\n",
       "      <th>4</th>\n",
       "      <td>Kristaps Porzingis</td>\n",
       "      <td>2.21</td>\n",
       "    </tr>\n",
       "    <tr>\n",
       "      <th>5</th>\n",
       "      <td>Joel Embiid</td>\n",
       "      <td>2.13</td>\n",
       "    </tr>\n",
       "    <tr>\n",
       "      <th>6</th>\n",
       "      <td>Joel Embiid</td>\n",
       "      <td>2.13</td>\n",
       "    </tr>\n",
       "    <tr>\n",
       "      <th>7</th>\n",
       "      <td>Joel Embiid</td>\n",
       "      <td>2.13</td>\n",
       "    </tr>\n",
       "    <tr>\n",
       "      <th>8</th>\n",
       "      <td>Joel Embiid</td>\n",
       "      <td>2.13</td>\n",
       "    </tr>\n",
       "    <tr>\n",
       "      <th>9</th>\n",
       "      <td>Joel Embiid</td>\n",
       "      <td>2.13</td>\n",
       "    </tr>\n",
       "  </tbody>\n",
       "</table>\n",
       "</div>"
      ],
      "text/plain": [
       "               Player  Height\n",
       "0  Kristaps Porzingis    2.21\n",
       "1  Kristaps Porzingis    2.21\n",
       "2  Kristaps Porzingis    2.21\n",
       "3  Kristaps Porzingis    2.21\n",
       "4  Kristaps Porzingis    2.21\n",
       "5         Joel Embiid    2.13\n",
       "6         Joel Embiid    2.13\n",
       "7         Joel Embiid    2.13\n",
       "8         Joel Embiid    2.13\n",
       "9         Joel Embiid    2.13"
      ]
     },
     "execution_count": 18,
     "metadata": {},
     "output_type": "execute_result"
    }
   ],
   "source": [
    "player_query = \"\"\"\n",
    "        MATCH (player:PLAYER)\n",
    "        RETURN player\n",
    "        ORDER BY player.height DESC\n",
    "        LIMIT 10 \n",
    "        \"\"\" # Only retrive the first 10 results\n",
    "\n",
    "records, summary, keys = driver.execute_query(player_query)\n",
    "\n",
    "pd.DataFrame(\n",
    "    {\n",
    "        \"Player\" : [record[\"player\"][\"name\"] for record in records],\n",
    "        \"Height\" : [record[\"player\"][\"height\"] for record in records]\n",
    "    }\n",
    ")"
   ]
  },
  {
   "cell_type": "markdown",
   "id": "a0c8f459-2d99-4083-bc6b-ac82be36d597",
   "metadata": {},
   "source": [
    "So, **Kristaps Porzingis** is the tallest player in our database."
   ]
  },
  {
   "cell_type": "markdown",
   "id": "1c4694e4-4b02-41b0-937a-f0e00543fdb3",
   "metadata": {},
   "source": [
    "**Now, let's retrive the salary of Kristaps Porzingis.**"
   ]
  },
  {
   "cell_type": "code",
   "execution_count": 19,
   "id": "4c01a153-cbb0-4532-9b65-d798c1b17423",
   "metadata": {},
   "outputs": [
    {
     "name": "stdout",
     "output_type": "stream",
     "text": [
      "{'rel.salary': 26000000}\n"
     ]
    }
   ],
   "source": [
    "player_query = \"\"\"\n",
    "        MATCH (player:PLAYER {name: \"Kristaps Porzingis\"}) -[rel: PLAYS_FOR]-> (:TEAM)\n",
    "        \n",
    "        RETURN rel.salary\n",
    "        \"\"\"\n",
    "\n",
    "records, summary, keys = driver.execute_query(player_query)\n",
    "\n",
    "for record in records:\n",
    "    print(record.data())\n",
    "    break"
   ]
  },
  {
   "cell_type": "markdown",
   "id": "25e5d039-e866-485a-90a6-50bc7af2a7f7",
   "metadata": {},
   "source": [
    "Kristaps Porzingis's salary is 26 M.\n",
    "\n",
    "**So, what is the highest salary player in our database.**"
   ]
  },
  {
   "cell_type": "code",
   "execution_count": 20,
   "id": "a4639baa-7815-40d0-8375-1c1b302e73a6",
   "metadata": {},
   "outputs": [
    {
     "name": "stdout",
     "output_type": "stream",
     "text": [
      "{'player': {'number': 77, 'name': 'Luka Doncic', 'weight': 104, 'age': 22, 'height': 2.01}, 'rel.salary': 50000000, 'team': {'name': 'Dallas Mavericks'}}\n"
     ]
    }
   ],
   "source": [
    "player_query = \"\"\"\n",
    "        MATCH (player:PLAYER) -[rel: PLAYS_FOR]-> (team:TEAM)\n",
    "        \n",
    "        RETURN player, rel.salary, team\n",
    "        ORDER BY rel.salary DESC\n",
    "        \"\"\"\n",
    "\n",
    "records, summary, keys = driver.execute_query(player_query)\n",
    "\n",
    "for record in records:\n",
    "    print(record.data())\n",
    "    break"
   ]
  },
  {
   "cell_type": "markdown",
   "id": "e1bb5327-1f68-437a-8954-9fc9243fbd4b",
   "metadata": {},
   "source": [
    "So, **Luka Doncic** who is 22 years old, it receive the **$50 million** (for) playing for **Dallas Mavericks**"
   ]
  },
  {
   "cell_type": "markdown",
   "id": "3a6e2a66-e7f2-489f-9cff-cac2c8dbdb95",
   "metadata": {},
   "source": [
    "**Now, let's retrieve the players and their average points.**"
   ]
  },
  {
   "cell_type": "code",
   "execution_count": 21,
   "id": "9944344b-229c-4562-bfcf-0b2d498398d6",
   "metadata": {},
   "outputs": [
    {
     "data": {
      "text/html": [
       "<div>\n",
       "<style scoped>\n",
       "    .dataframe tbody tr th:only-of-type {\n",
       "        vertical-align: middle;\n",
       "    }\n",
       "\n",
       "    .dataframe tbody tr th {\n",
       "        vertical-align: top;\n",
       "    }\n",
       "\n",
       "    .dataframe thead th {\n",
       "        text-align: right;\n",
       "    }\n",
       "</style>\n",
       "<table border=\"1\" class=\"dataframe\">\n",
       "  <thead>\n",
       "    <tr style=\"text-align: right;\">\n",
       "      <th></th>\n",
       "      <th>Player</th>\n",
       "      <th>Points</th>\n",
       "    </tr>\n",
       "  </thead>\n",
       "  <tbody>\n",
       "    <tr>\n",
       "      <th>0</th>\n",
       "      <td>Kevin Durant</td>\n",
       "      <td>36.666667</td>\n",
       "    </tr>\n",
       "    <tr>\n",
       "      <th>1</th>\n",
       "      <td>Ja Morant</td>\n",
       "      <td>36.333333</td>\n",
       "    </tr>\n",
       "    <tr>\n",
       "      <th>2</th>\n",
       "      <td>Giannis Antetokounmpo</td>\n",
       "      <td>31.000000</td>\n",
       "    </tr>\n",
       "    <tr>\n",
       "      <th>3</th>\n",
       "      <td>Joel Embiid</td>\n",
       "      <td>29.333333</td>\n",
       "    </tr>\n",
       "    <tr>\n",
       "      <th>4</th>\n",
       "      <td>James Harden</td>\n",
       "      <td>29.000000</td>\n",
       "    </tr>\n",
       "    <tr>\n",
       "      <th>5</th>\n",
       "      <td>Luka Doncic</td>\n",
       "      <td>28.666667</td>\n",
       "    </tr>\n",
       "    <tr>\n",
       "      <th>6</th>\n",
       "      <td>Khris Middleton</td>\n",
       "      <td>28.500000</td>\n",
       "    </tr>\n",
       "    <tr>\n",
       "      <th>7</th>\n",
       "      <td>LeBron James</td>\n",
       "      <td>25.500000</td>\n",
       "    </tr>\n",
       "    <tr>\n",
       "      <th>8</th>\n",
       "      <td>Anthony Davis</td>\n",
       "      <td>24.250000</td>\n",
       "    </tr>\n",
       "    <tr>\n",
       "      <th>9</th>\n",
       "      <td>Tobias Harris</td>\n",
       "      <td>21.000000</td>\n",
       "    </tr>\n",
       "    <tr>\n",
       "      <th>10</th>\n",
       "      <td>Kristaps Porzingis</td>\n",
       "      <td>20.333333</td>\n",
       "    </tr>\n",
       "    <tr>\n",
       "      <th>11</th>\n",
       "      <td>Russell Westbrook</td>\n",
       "      <td>18.000000</td>\n",
       "    </tr>\n",
       "  </tbody>\n",
       "</table>\n",
       "</div>"
      ],
      "text/plain": [
       "                   Player     Points\n",
       "0            Kevin Durant  36.666667\n",
       "1               Ja Morant  36.333333\n",
       "2   Giannis Antetokounmpo  31.000000\n",
       "3             Joel Embiid  29.333333\n",
       "4            James Harden  29.000000\n",
       "5             Luka Doncic  28.666667\n",
       "6         Khris Middleton  28.500000\n",
       "7            LeBron James  25.500000\n",
       "8           Anthony Davis  24.250000\n",
       "9           Tobias Harris  21.000000\n",
       "10     Kristaps Porzingis  20.333333\n",
       "11      Russell Westbrook  18.000000"
      ]
     },
     "execution_count": 21,
     "metadata": {},
     "output_type": "execute_result"
    }
   ],
   "source": [
    "player_query = \"\"\"\n",
    "            MATCH (player:PLAYER) -[rel:PLAYED_AGAINST]-> (:TEAM)\n",
    "            RETURN player.name as Player, AVG(rel.points) as Points\n",
    "            ORDER BY AVG(rel.points) DESC\n",
    "        \"\"\"\n",
    "\n",
    "records, summary, keys = driver.execute_query(player_query)\n",
    "\n",
    "pd.DataFrame(\n",
    "    {\n",
    "        \"Player\" : [record[\"Player\"] for record in records],\n",
    "        \"Points\" : [record[\"Points\"] for record in records]\n",
    "    }\n",
    ")"
   ]
  },
  {
   "cell_type": "markdown",
   "id": "d74c2bd1-1562-4932-b054-ff8814c90f85",
   "metadata": {},
   "source": [
    "## Delete from database"
   ]
  },
  {
   "cell_type": "markdown",
   "id": "35da7d1b-7e9b-44e8-80de-7030ca8ee272",
   "metadata": {},
   "source": [
    "**Now, we want to delete the player (node) \"Ja Marant\" due to some reason.**"
   ]
  },
  {
   "cell_type": "code",
   "execution_count": 22,
   "id": "deba9f00-5b17-4646-b4a1-fe3104f83991",
   "metadata": {},
   "outputs": [
    {
     "name": "stdout",
     "output_type": "stream",
     "text": [
      "Remove 1 nodes, 0 labels and 5 relationships in 117 ms.\n"
     ]
    }
   ],
   "source": [
    "player_query = \"\"\"\n",
    "        MATCH (player:PLAYER {name: \"Ja Morant\"})\n",
    "        \n",
    "        DETACH DELETE player\n",
    "        \"\"\"\n",
    "\n",
    "summary = driver.execute_query(player_query).summary\n",
    "\n",
    "print(\"Remove {nodes_created} nodes, {labels_added} labels and {relations_created} relationships in {time} ms.\".format(\n",
    "    nodes_created=summary.counters.nodes_deleted,\n",
    "    labels_added=summary.counters.labels_removed,\n",
    "    relations_created=summary.counters.relationships_deleted,\n",
    "    time=summary.result_available_after\n",
    "))"
   ]
  },
  {
   "cell_type": "code",
   "execution_count": 23,
   "id": "99a2b7ba-2fe7-40f8-828d-8377c82a0d9b",
   "metadata": {},
   "outputs": [],
   "source": [
    "player_query = \"\"\"\n",
    "        MATCH (player:PLAYER {name: \"Ja Morant\"}) -[rel: PLAYS_FOR]-> (:TEAM)\n",
    "        \n",
    "        RETURN rel.salary\n",
    "        \"\"\"\n",
    "\n",
    "records, summary, keys = driver.execute_query(player_query)\n",
    "\n",
    "for record in records:\n",
    "    print(record.data())\n",
    "    break"
   ]
  },
  {
   "cell_type": "code",
   "execution_count": 24,
   "id": "9b2c21a5-5855-408e-99bd-4ff2a556fa33",
   "metadata": {},
   "outputs": [
    {
     "data": {
      "text/plain": [
       "{'query': '\\n        MATCH (player:PLAYER {name: \"Ja Morant\"}) -[rel: PLAYS_FOR]-> (:TEAM)\\n        \\n        RETURN rel.salary\\n        ',\n",
       " 'parameters': {},\n",
       " 'server': <neo4j.api.ServerInfo at 0x1fa77e24ec0>,\n",
       " 'database': None,\n",
       " 't_first': 144,\n",
       " 'fields': ['rel.salary'],\n",
       " 'qid': 0,\n",
       " 'type': 'r',\n",
       " 't_last': 1,\n",
       " 'db': 'neo4j'}"
      ]
     },
     "execution_count": 24,
     "metadata": {},
     "output_type": "execute_result"
    }
   ],
   "source": [
    "summary.metadata"
   ]
  },
  {
   "cell_type": "markdown",
   "id": "7369db30-1b7a-4322-9e97-d201ecc74ab2",
   "metadata": {},
   "source": [
    "No data found!"
   ]
  },
  {
   "cell_type": "markdown",
   "id": "f77049e4-ad76-42a2-8ce4-fc65984716e4",
   "metadata": {},
   "source": [
    "**Next, we want to delete the relationship. Let's assume that Joel Embiid  stop to play for any team.**"
   ]
  },
  {
   "cell_type": "code",
   "execution_count": 25,
   "id": "e11d2488-3edc-43b3-9bb5-9fc3c4a412c9",
   "metadata": {},
   "outputs": [
    {
     "name": "stdout",
     "output_type": "stream",
     "text": [
      "Remove 0 nodes, 0 labels and 1 relationships in 153 ms.\n"
     ]
    }
   ],
   "source": [
    "player_query = \"\"\"\n",
    "        MATCH (player:PLAYER {name: \"Joel Embiid\"}) -[rel: PLAYS_FOR]-> (:TEAM)\n",
    "        \n",
    "        DELETE rel\n",
    "        \"\"\"\n",
    "\n",
    "records, summary, keys = driver.execute_query(player_query)\n",
    "\n",
    "print(\"Remove {nodes_created} nodes, {labels_added} labels and {relations_created} relationships in {time} ms.\".format(\n",
    "    nodes_created=summary.counters.nodes_deleted,\n",
    "    labels_added=summary.counters.labels_removed,\n",
    "    relations_created=summary.counters.relationships_deleted,\n",
    "    time=summary.result_available_after\n",
    "))"
   ]
  },
  {
   "cell_type": "markdown",
   "id": "26c8a48e-d260-4fd0-82bf-bd09482a72f0",
   "metadata": {},
   "source": [
    "## Update the database"
   ]
  },
  {
   "cell_type": "markdown",
   "id": "12581c8e-71ed-4756-9390-7b5f89e677ec",
   "metadata": {},
   "source": [
    "**Let's update the height of player whose id is 3.**"
   ]
  },
  {
   "cell_type": "code",
   "execution_count": 26,
   "id": "ad7b972e-84e4-48d8-8784-7773e96c9160",
   "metadata": {},
   "outputs": [
    {
     "name": "stdout",
     "output_type": "stream",
     "text": [
      "{'player': {'number': 0, 'name': 'Russell Westbrook', 'weight': 91, 'age': 33, 'height': 2.06}}\n"
     ]
    }
   ],
   "source": [
    "# Before set the height of player (with) id =3, let's check the height of the player.\n",
    "player_query = \"\"\"\n",
    "        MATCH (player:PLAYER)\n",
    "        WHERE ID(player) = 3\n",
    "        RETURN player\n",
    "        \"\"\"\n",
    "\n",
    "records, summary, keys = driver.execute_query(player_query)\n",
    "\n",
    "for record in records:\n",
    "    print(record.data())\n",
    "    break"
   ]
  },
  {
   "cell_type": "code",
   "execution_count": 27,
   "id": "7202ddbd-9af4-44a1-b582-40c5786d4a48",
   "metadata": {},
   "outputs": [
    {
     "name": "stdout",
     "output_type": "stream",
     "text": [
      "{'player': {'number': 0, 'name': 'Russell Westbrook', 'weight': 91, 'age': 33, 'height': 4}}\n"
     ]
    }
   ],
   "source": [
    "player_query = \"\"\"\n",
    "        MATCH (player:PLAYER)\n",
    "        WHERE ID(player) = 3\n",
    "        SET player.height = 4\n",
    "        RETURN player\n",
    "        \"\"\"\n",
    "\n",
    "records, summary, keys = driver.execute_query(player_query)\n",
    "\n",
    "for record in records:\n",
    "    print(record.data())\n",
    "    break"
   ]
  },
  {
   "cell_type": "markdown",
   "id": "9b6e3cee-a673-41ee-9a64-909d8b7031b5",
   "metadata": {},
   "source": [
    "# Error Handling\n",
    "\n",
    "Because <code>.execute_query()</code> can potentially raise a number of different exceptions, the best way to handle errors is to catch all exceptions in a single <code>try/except</code> block:"
   ]
  },
  {
   "cell_type": "code",
   "execution_count": 28,
   "id": "25590d15-99da-4c2f-9804-2b4a75b0de6e",
   "metadata": {},
   "outputs": [
    {
     "name": "stdout",
     "output_type": "stream",
     "text": [
      "Something went wrong!\n",
      "{code: Neo.ClientError.Statement.SyntaxError} {message: Variable `n` not defined (line 3, column 32 (offset: 54))\n",
      "\"            RETURN n\"\n",
      "                    ^}\n"
     ]
    }
   ],
   "source": [
    "# For example let's execute the our first (read) query, which just return the number of players present in our dataset.\n",
    "# But to print an error, let's return n instead of player.\n",
    "\n",
    "try:\n",
    "\n",
    "    player_query = \"\"\"\n",
    "            MATCH (player:PLAYER)\n",
    "            RETURN n\n",
    "            \"\"\"\n",
    "    \n",
    "    records, summary, keys = driver.execute_query(player_query)\n",
    "    \n",
    "    print(\"Total players present in database \\t:\",len(records))\n",
    "\n",
    "except Exception as e:\n",
    "\n",
    "    print(\"Something went wrong!\")\n",
    "\n",
    "    print(e)\n",
    "\n"
   ]
  },
  {
   "cell_type": "markdown",
   "id": "8be52f34-d4fe-4fab-a55a-e3b3c3dbcb45",
   "metadata": {},
   "source": [
    "But if we don't use <code>try/except</code> block, let's see what happens."
   ]
  },
  {
   "cell_type": "code",
   "execution_count": 29,
   "id": "ee230052-10da-40b1-8431-e00e0818b702",
   "metadata": {},
   "outputs": [
    {
     "ename": "CypherSyntaxError",
     "evalue": "{code: Neo.ClientError.Statement.SyntaxError} {message: Variable `n` not defined (line 3, column 24 (offset: 46))\r\n\"        RETURN n\"\r\n                ^}",
     "output_type": "error",
     "traceback": [
      "\u001b[1;31m---------------------------------------------------------------------------\u001b[0m",
      "\u001b[1;31mCypherSyntaxError\u001b[0m                         Traceback (most recent call last)",
      "Cell \u001b[1;32mIn[29], line 6\u001b[0m\n\u001b[0;32m      1\u001b[0m player_query \u001b[38;5;241m=\u001b[39m \u001b[38;5;124m\"\"\"\u001b[39m\n\u001b[0;32m      2\u001b[0m \u001b[38;5;124m        MATCH (player:PLAYER)\u001b[39m\n\u001b[0;32m      3\u001b[0m \u001b[38;5;124m        RETURN n\u001b[39m\n\u001b[0;32m      4\u001b[0m \u001b[38;5;124m        \u001b[39m\u001b[38;5;124m\"\"\"\u001b[39m\n\u001b[1;32m----> 6\u001b[0m records, summary, keys \u001b[38;5;241m=\u001b[39m driver\u001b[38;5;241m.\u001b[39mexecute_query(player_query)\n\u001b[0;32m      8\u001b[0m \u001b[38;5;28mprint\u001b[39m(\u001b[38;5;124m\"\u001b[39m\u001b[38;5;124mTotal players present in database \u001b[39m\u001b[38;5;130;01m\\t\u001b[39;00m\u001b[38;5;124m:\u001b[39m\u001b[38;5;124m\"\u001b[39m,\u001b[38;5;28mlen\u001b[39m(records))\n",
      "File \u001b[1;32mD:\\AnaConda\\envs\\internship_env\\Lib\\site-packages\\neo4j\\_sync\\driver.py:902\u001b[0m, in \u001b[0;36mDriver.execute_query\u001b[1;34m(self, query_, parameters_, routing_, database_, impersonated_user_, bookmark_manager_, auth_, result_transformer_, **kwargs)\u001b[0m\n\u001b[0;32m    899\u001b[0m     \u001b[38;5;28;01mraise\u001b[39;00m \u001b[38;5;167;01mValueError\u001b[39;00m(\u001b[38;5;124m\"\u001b[39m\u001b[38;5;124mInvalid routing control value: \u001b[39m\u001b[38;5;132;01m%r\u001b[39;00m\u001b[38;5;124m\"\u001b[39m\n\u001b[0;32m    900\u001b[0m                      \u001b[38;5;241m%\u001b[39m routing_)\n\u001b[0;32m    901\u001b[0m \u001b[38;5;28;01mwith\u001b[39;00m session\u001b[38;5;241m.\u001b[39m_pipelined_begin:\n\u001b[1;32m--> 902\u001b[0m     \u001b[38;5;28;01mreturn\u001b[39;00m session\u001b[38;5;241m.\u001b[39m_run_transaction(\n\u001b[0;32m    903\u001b[0m         access_mode, TelemetryAPI\u001b[38;5;241m.\u001b[39mDRIVER,\n\u001b[0;32m    904\u001b[0m         work, (query_str, parameters, result_transformer_), {}\n\u001b[0;32m    905\u001b[0m     )\n",
      "File \u001b[1;32mD:\\AnaConda\\envs\\internship_env\\Lib\\site-packages\\neo4j\\_sync\\work\\session.py:552\u001b[0m, in \u001b[0;36mSession._run_transaction\u001b[1;34m(self, access_mode, api, transaction_function, args, kwargs)\u001b[0m\n\u001b[0;32m    550\u001b[0m tx \u001b[38;5;241m=\u001b[39m \u001b[38;5;28mself\u001b[39m\u001b[38;5;241m.\u001b[39m_transaction\n\u001b[0;32m    551\u001b[0m \u001b[38;5;28;01mtry\u001b[39;00m:\n\u001b[1;32m--> 552\u001b[0m     result \u001b[38;5;241m=\u001b[39m transaction_function(tx, \u001b[38;5;241m*\u001b[39margs, \u001b[38;5;241m*\u001b[39m\u001b[38;5;241m*\u001b[39mkwargs)\n\u001b[0;32m    553\u001b[0m \u001b[38;5;28;01mexcept\u001b[39;00m asyncio\u001b[38;5;241m.\u001b[39mCancelledError:\n\u001b[0;32m    554\u001b[0m     \u001b[38;5;66;03m# if cancellation callback has not been called yet:\u001b[39;00m\n\u001b[0;32m    555\u001b[0m     \u001b[38;5;28;01mif\u001b[39;00m \u001b[38;5;28mself\u001b[39m\u001b[38;5;241m.\u001b[39m_transaction \u001b[38;5;129;01mis\u001b[39;00m \u001b[38;5;129;01mnot\u001b[39;00m \u001b[38;5;28;01mNone\u001b[39;00m:\n",
      "File \u001b[1;32mD:\\AnaConda\\envs\\internship_env\\Lib\\site-packages\\neo4j\\_sync\\driver.py:1227\u001b[0m, in \u001b[0;36m_work\u001b[1;34m(tx, query, parameters, transformer)\u001b[0m\n\u001b[0;32m   1221\u001b[0m \u001b[38;5;28;01mdef\u001b[39;00m \u001b[38;5;21m_work\u001b[39m(\n\u001b[0;32m   1222\u001b[0m     tx: ManagedTransaction,\n\u001b[0;32m   1223\u001b[0m     query: te\u001b[38;5;241m.\u001b[39mLiteralString,\n\u001b[0;32m   1224\u001b[0m     parameters: t\u001b[38;5;241m.\u001b[39mDict[\u001b[38;5;28mstr\u001b[39m, t\u001b[38;5;241m.\u001b[39mAny],\n\u001b[0;32m   1225\u001b[0m     transformer: t\u001b[38;5;241m.\u001b[39mCallable[[Result], t\u001b[38;5;241m.\u001b[39mUnion[_T]]\n\u001b[0;32m   1226\u001b[0m ) \u001b[38;5;241m-\u001b[39m\u001b[38;5;241m>\u001b[39m _T:\n\u001b[1;32m-> 1227\u001b[0m     res \u001b[38;5;241m=\u001b[39m tx\u001b[38;5;241m.\u001b[39mrun(query, parameters)\n\u001b[0;32m   1228\u001b[0m     \u001b[38;5;28;01mreturn\u001b[39;00m transformer(res)\n",
      "File \u001b[1;32mD:\\AnaConda\\envs\\internship_env\\Lib\\site-packages\\neo4j\\_sync\\work\\transaction.py:168\u001b[0m, in \u001b[0;36mTransactionBase.run\u001b[1;34m(self, query, parameters, **kwparameters)\u001b[0m\n\u001b[0;32m    165\u001b[0m \u001b[38;5;28mself\u001b[39m\u001b[38;5;241m.\u001b[39m_results\u001b[38;5;241m.\u001b[39mappend(result)\n\u001b[0;32m    167\u001b[0m parameters \u001b[38;5;241m=\u001b[39m \u001b[38;5;28mdict\u001b[39m(parameters \u001b[38;5;129;01mor\u001b[39;00m {}, \u001b[38;5;241m*\u001b[39m\u001b[38;5;241m*\u001b[39mkwparameters)\n\u001b[1;32m--> 168\u001b[0m result\u001b[38;5;241m.\u001b[39m_tx_ready_run(query, parameters)\n\u001b[0;32m    170\u001b[0m \u001b[38;5;28;01mreturn\u001b[39;00m result\n",
      "File \u001b[1;32mD:\\AnaConda\\envs\\internship_env\\Lib\\site-packages\\neo4j\\_sync\\work\\result.py:131\u001b[0m, in \u001b[0;36mResult._tx_ready_run\u001b[1;34m(self, query, parameters)\u001b[0m\n\u001b[0;32m    127\u001b[0m \u001b[38;5;28;01mdef\u001b[39;00m \u001b[38;5;21m_tx_ready_run\u001b[39m(\u001b[38;5;28mself\u001b[39m, query, parameters):\n\u001b[0;32m    128\u001b[0m     \u001b[38;5;66;03m# BEGIN+RUN does not carry any extra on the RUN message.\u001b[39;00m\n\u001b[0;32m    129\u001b[0m     \u001b[38;5;66;03m# BEGIN {extra}\u001b[39;00m\n\u001b[0;32m    130\u001b[0m     \u001b[38;5;66;03m# RUN \"query\" {parameters} {extra}\u001b[39;00m\n\u001b[1;32m--> 131\u001b[0m     \u001b[38;5;28mself\u001b[39m\u001b[38;5;241m.\u001b[39m_run(query, parameters, \u001b[38;5;28;01mNone\u001b[39;00m, \u001b[38;5;28;01mNone\u001b[39;00m, \u001b[38;5;28;01mNone\u001b[39;00m, \u001b[38;5;28;01mNone\u001b[39;00m, \u001b[38;5;28;01mNone\u001b[39;00m, \u001b[38;5;28;01mNone\u001b[39;00m)\n",
      "File \u001b[1;32mD:\\AnaConda\\envs\\internship_env\\Lib\\site-packages\\neo4j\\_sync\\work\\result.py:181\u001b[0m, in \u001b[0;36mResult._run\u001b[1;34m(self, query, parameters, db, imp_user, access_mode, bookmarks, notifications_min_severity, notifications_disabled_categories)\u001b[0m\n\u001b[0;32m    179\u001b[0m \u001b[38;5;28mself\u001b[39m\u001b[38;5;241m.\u001b[39m_pull()\n\u001b[0;32m    180\u001b[0m \u001b[38;5;28mself\u001b[39m\u001b[38;5;241m.\u001b[39m_connection\u001b[38;5;241m.\u001b[39msend_all()\n\u001b[1;32m--> 181\u001b[0m \u001b[38;5;28mself\u001b[39m\u001b[38;5;241m.\u001b[39m_attach()\n",
      "File \u001b[1;32mD:\\AnaConda\\envs\\internship_env\\Lib\\site-packages\\neo4j\\_sync\\work\\result.py:301\u001b[0m, in \u001b[0;36mResult._attach\u001b[1;34m(self)\u001b[0m\n\u001b[0;32m    299\u001b[0m \u001b[38;5;28;01mif\u001b[39;00m \u001b[38;5;28mself\u001b[39m\u001b[38;5;241m.\u001b[39m_exhausted \u001b[38;5;129;01mis\u001b[39;00m \u001b[38;5;28;01mFalse\u001b[39;00m:\n\u001b[0;32m    300\u001b[0m     \u001b[38;5;28;01mwhile\u001b[39;00m \u001b[38;5;28mself\u001b[39m\u001b[38;5;241m.\u001b[39m_attached \u001b[38;5;129;01mis\u001b[39;00m \u001b[38;5;28;01mFalse\u001b[39;00m:\n\u001b[1;32m--> 301\u001b[0m         \u001b[38;5;28mself\u001b[39m\u001b[38;5;241m.\u001b[39m_connection\u001b[38;5;241m.\u001b[39mfetch_message()\n",
      "File \u001b[1;32mD:\\AnaConda\\envs\\internship_env\\Lib\\site-packages\\neo4j\\_sync\\io\\_common.py:178\u001b[0m, in \u001b[0;36mConnectionErrorHandler.__getattr__.<locals>.outer.<locals>.inner\u001b[1;34m(*args, **kwargs)\u001b[0m\n\u001b[0;32m    176\u001b[0m \u001b[38;5;28;01mdef\u001b[39;00m \u001b[38;5;21minner\u001b[39m(\u001b[38;5;241m*\u001b[39margs, \u001b[38;5;241m*\u001b[39m\u001b[38;5;241m*\u001b[39mkwargs):\n\u001b[0;32m    177\u001b[0m     \u001b[38;5;28;01mtry\u001b[39;00m:\n\u001b[1;32m--> 178\u001b[0m         func(\u001b[38;5;241m*\u001b[39margs, \u001b[38;5;241m*\u001b[39m\u001b[38;5;241m*\u001b[39mkwargs)\n\u001b[0;32m    179\u001b[0m     \u001b[38;5;28;01mexcept\u001b[39;00m (Neo4jError, ServiceUnavailable, SessionExpired) \u001b[38;5;28;01mas\u001b[39;00m exc:\n\u001b[0;32m    180\u001b[0m         \u001b[38;5;28;01massert\u001b[39;00m \u001b[38;5;129;01mnot\u001b[39;00m asyncio\u001b[38;5;241m.\u001b[39miscoroutinefunction(\u001b[38;5;28mself\u001b[39m\u001b[38;5;241m.\u001b[39m__on_error)\n",
      "File \u001b[1;32mD:\\AnaConda\\envs\\internship_env\\Lib\\site-packages\\neo4j\\_sync\\io\\_bolt.py:849\u001b[0m, in \u001b[0;36mBolt.fetch_message\u001b[1;34m(self)\u001b[0m\n\u001b[0;32m    845\u001b[0m \u001b[38;5;66;03m# Receive exactly one message\u001b[39;00m\n\u001b[0;32m    846\u001b[0m tag, fields \u001b[38;5;241m=\u001b[39m \u001b[38;5;28mself\u001b[39m\u001b[38;5;241m.\u001b[39minbox\u001b[38;5;241m.\u001b[39mpop(\n\u001b[0;32m    847\u001b[0m     hydration_hooks\u001b[38;5;241m=\u001b[39m\u001b[38;5;28mself\u001b[39m\u001b[38;5;241m.\u001b[39mresponses[\u001b[38;5;241m0\u001b[39m]\u001b[38;5;241m.\u001b[39mhydration_hooks\n\u001b[0;32m    848\u001b[0m )\n\u001b[1;32m--> 849\u001b[0m res \u001b[38;5;241m=\u001b[39m \u001b[38;5;28mself\u001b[39m\u001b[38;5;241m.\u001b[39m_process_message(tag, fields)\n\u001b[0;32m    850\u001b[0m \u001b[38;5;28mself\u001b[39m\u001b[38;5;241m.\u001b[39midle_since \u001b[38;5;241m=\u001b[39m monotonic()\n\u001b[0;32m    851\u001b[0m \u001b[38;5;28;01mreturn\u001b[39;00m res\n",
      "File \u001b[1;32mD:\\AnaConda\\envs\\internship_env\\Lib\\site-packages\\neo4j\\_sync\\io\\_bolt5.py:369\u001b[0m, in \u001b[0;36mBolt5x0._process_message\u001b[1;34m(self, tag, fields)\u001b[0m\n\u001b[0;32m    367\u001b[0m \u001b[38;5;28mself\u001b[39m\u001b[38;5;241m.\u001b[39m_server_state_manager\u001b[38;5;241m.\u001b[39mstate \u001b[38;5;241m=\u001b[39m \u001b[38;5;28mself\u001b[39m\u001b[38;5;241m.\u001b[39mbolt_states\u001b[38;5;241m.\u001b[39mFAILED\n\u001b[0;32m    368\u001b[0m \u001b[38;5;28;01mtry\u001b[39;00m:\n\u001b[1;32m--> 369\u001b[0m     response\u001b[38;5;241m.\u001b[39mon_failure(summary_metadata \u001b[38;5;129;01mor\u001b[39;00m {})\n\u001b[0;32m    370\u001b[0m \u001b[38;5;28;01mexcept\u001b[39;00m (ServiceUnavailable, DatabaseUnavailable):\n\u001b[0;32m    371\u001b[0m     \u001b[38;5;28;01mif\u001b[39;00m \u001b[38;5;28mself\u001b[39m\u001b[38;5;241m.\u001b[39mpool:\n",
      "File \u001b[1;32mD:\\AnaConda\\envs\\internship_env\\Lib\\site-packages\\neo4j\\_sync\\io\\_common.py:245\u001b[0m, in \u001b[0;36mResponse.on_failure\u001b[1;34m(self, metadata)\u001b[0m\n\u001b[0;32m    243\u001b[0m handler \u001b[38;5;241m=\u001b[39m \u001b[38;5;28mself\u001b[39m\u001b[38;5;241m.\u001b[39mhandlers\u001b[38;5;241m.\u001b[39mget(\u001b[38;5;124m\"\u001b[39m\u001b[38;5;124mon_summary\u001b[39m\u001b[38;5;124m\"\u001b[39m)\n\u001b[0;32m    244\u001b[0m Util\u001b[38;5;241m.\u001b[39mcallback(handler)\n\u001b[1;32m--> 245\u001b[0m \u001b[38;5;28;01mraise\u001b[39;00m Neo4jError\u001b[38;5;241m.\u001b[39mhydrate(\u001b[38;5;241m*\u001b[39m\u001b[38;5;241m*\u001b[39mmetadata)\n",
      "\u001b[1;31mCypherSyntaxError\u001b[0m: {code: Neo.ClientError.Statement.SyntaxError} {message: Variable `n` not defined (line 3, column 24 (offset: 46))\r\n\"        RETURN n\"\r\n                ^}"
     ]
    }
   ],
   "source": [
    "player_query = \"\"\"\n",
    "        MATCH (player:PLAYER)\n",
    "        RETURN n\n",
    "        \"\"\"\n",
    "\n",
    "records, summary, keys = driver.execute_query(player_query)\n",
    "\n",
    "print(\"Total players present in database \\t:\",len(records))"
   ]
  },
  {
   "cell_type": "code",
   "execution_count": null,
   "id": "1b3a939e-7f7d-435a-bead-4bf1b92abff3",
   "metadata": {},
   "outputs": [],
   "source": []
  },
  {
   "cell_type": "markdown",
   "id": "2666fe31-4559-48d1-b73f-6f7aebf0c21d",
   "metadata": {},
   "source": [
    "# Now let's visualize our result as graph.\n",
    "\n",
    "There are few methods, to work with result data. As how we want the format of our data.\n",
    "\n",
    "And from that, above we see the list or dataframe.\n",
    "\n",
    "Now, let's see the graph.\n",
    "\n",
    "But for visualize the graph, we need to install the library <code>pyvis</code>."
   ]
  },
  {
   "cell_type": "code",
   "execution_count": 112,
   "id": "e3e359b2-4fd5-4bb5-8b75-63b97eb29dcd",
   "metadata": {},
   "outputs": [
    {
     "name": "stdout",
     "output_type": "stream",
     "text": [
      "Collecting pyvis\n",
      "  Downloading pyvis-0.3.2-py3-none-any.whl.metadata (1.7 kB)\n",
      "Requirement already satisfied: ipython>=5.3.0 in d:\\anaconda\\envs\\internship_env\\lib\\site-packages (from pyvis) (8.20.0)\n",
      "Requirement already satisfied: jinja2>=2.9.6 in d:\\anaconda\\envs\\internship_env\\lib\\site-packages (from pyvis) (3.1.3)\n",
      "Collecting jsonpickle>=1.4.1 (from pyvis)\n",
      "  Downloading jsonpickle-3.0.3-py3-none-any.whl.metadata (7.3 kB)\n",
      "Collecting networkx>=1.11 (from pyvis)\n",
      "  Using cached networkx-3.2.1-py3-none-any.whl.metadata (5.2 kB)\n",
      "Requirement already satisfied: decorator in d:\\anaconda\\envs\\internship_env\\lib\\site-packages (from ipython>=5.3.0->pyvis) (5.1.1)\n",
      "Requirement already satisfied: jedi>=0.16 in d:\\anaconda\\envs\\internship_env\\lib\\site-packages (from ipython>=5.3.0->pyvis) (0.18.1)\n",
      "Requirement already satisfied: matplotlib-inline in d:\\anaconda\\envs\\internship_env\\lib\\site-packages (from ipython>=5.3.0->pyvis) (0.1.6)\n",
      "Requirement already satisfied: prompt-toolkit<3.1.0,>=3.0.41 in d:\\anaconda\\envs\\internship_env\\lib\\site-packages (from ipython>=5.3.0->pyvis) (3.0.43)\n",
      "Requirement already satisfied: pygments>=2.4.0 in d:\\anaconda\\envs\\internship_env\\lib\\site-packages (from ipython>=5.3.0->pyvis) (2.15.1)\n",
      "Requirement already satisfied: stack-data in d:\\anaconda\\envs\\internship_env\\lib\\site-packages (from ipython>=5.3.0->pyvis) (0.2.0)\n",
      "Requirement already satisfied: traitlets>=5 in d:\\anaconda\\envs\\internship_env\\lib\\site-packages (from ipython>=5.3.0->pyvis) (5.7.1)\n",
      "Requirement already satisfied: colorama in d:\\anaconda\\envs\\internship_env\\lib\\site-packages (from ipython>=5.3.0->pyvis) (0.4.6)\n",
      "Requirement already satisfied: MarkupSafe>=2.0 in d:\\anaconda\\envs\\internship_env\\lib\\site-packages (from jinja2>=2.9.6->pyvis) (2.1.3)\n",
      "Requirement already satisfied: parso<0.9.0,>=0.8.0 in d:\\anaconda\\envs\\internship_env\\lib\\site-packages (from jedi>=0.16->ipython>=5.3.0->pyvis) (0.8.3)\n",
      "Requirement already satisfied: wcwidth in d:\\anaconda\\envs\\internship_env\\lib\\site-packages (from prompt-toolkit<3.1.0,>=3.0.41->ipython>=5.3.0->pyvis) (0.2.5)\n",
      "Requirement already satisfied: executing in d:\\anaconda\\envs\\internship_env\\lib\\site-packages (from stack-data->ipython>=5.3.0->pyvis) (0.8.3)\n",
      "Requirement already satisfied: asttokens in d:\\anaconda\\envs\\internship_env\\lib\\site-packages (from stack-data->ipython>=5.3.0->pyvis) (2.0.5)\n",
      "Requirement already satisfied: pure-eval in d:\\anaconda\\envs\\internship_env\\lib\\site-packages (from stack-data->ipython>=5.3.0->pyvis) (0.2.2)\n",
      "Requirement already satisfied: six in d:\\anaconda\\envs\\internship_env\\lib\\site-packages (from asttokens->stack-data->ipython>=5.3.0->pyvis) (1.16.0)\n",
      "Downloading pyvis-0.3.2-py3-none-any.whl (756 kB)\n",
      "   ---------------------------------------- 0.0/756.0 kB ? eta -:--:--\n",
      "   -- ------------------------------------ 41.0/756.0 kB 991.0 kB/s eta 0:00:01\n",
      "   ----------- ---------------------------- 225.3/756.0 kB 2.8 MB/s eta 0:00:01\n",
      "   -------------------- ------------------- 389.1/756.0 kB 3.0 MB/s eta 0:00:01\n",
      "   --------------------------------- ------ 624.6/756.0 kB 3.6 MB/s eta 0:00:01\n",
      "   ---------------------------------------- 756.0/756.0 kB 3.7 MB/s eta 0:00:00\n",
      "Downloading jsonpickle-3.0.3-py3-none-any.whl (40 kB)\n",
      "   ---------------------------------------- 0.0/40.8 kB ? eta -:--:--\n",
      "   ---------------------------------------- 40.8/40.8 kB 1.9 MB/s eta 0:00:00\n",
      "Using cached networkx-3.2.1-py3-none-any.whl (1.6 MB)\n",
      "Installing collected packages: networkx, jsonpickle, pyvis\n",
      "Successfully installed jsonpickle-3.0.3 networkx-3.2.1 pyvis-0.3.2\n"
     ]
    }
   ],
   "source": [
    "!pip install pyvis"
   ]
  },
  {
   "cell_type": "code",
   "execution_count": 30,
   "id": "45e25ead-5e7c-4043-9ae4-ebd30057594b",
   "metadata": {},
   "outputs": [],
   "source": [
    "import pyvis"
   ]
  },
  {
   "cell_type": "markdown",
   "id": "4900283f-7c39-41ca-93ca-305efb004eca",
   "metadata": {},
   "source": [
    "For graph result, we need to <code>transform</code> the result."
   ]
  },
  {
   "cell_type": "code",
   "execution_count": 32,
   "id": "ef876130-2cf6-462d-a281-2511eeb6babe",
   "metadata": {},
   "outputs": [
    {
     "name": "stdout",
     "output_type": "stream",
     "text": [
      "network.html\n"
     ]
    }
   ],
   "source": [
    "general_relation_query = \"\"\"\n",
    "                         MATCH (player:PLAYER) -[plays_rel:PLAYS_FOR]-> (team:TEAM)\n",
    "                         MATCH (coach:COACH) -[coach_rel:COACHES]->  (player:PLAYER) \n",
    "                         RETURN player, team, coach, plays_rel, coach_rel\n",
    "                         \"\"\"\n",
    "\n",
    "graph_result = driver.execute_query(general_relation_query, result_transformer_=neo4j.Result.graph)\n",
    "\n",
    "nodes_text_properties = {\n",
    "    \"PLAYER\" : \"name\",\n",
    "    \"COACH\" : \"name\",\n",
    "    \"TEAM\" : \"name\",\n",
    "}\n",
    "\n",
    "visualize_result(graph_result, nodes_text_properties)"
   ]
  },
  {
   "cell_type": "code",
   "execution_count": 31,
   "id": "c4777e40-f5cc-40de-be3a-92303b7e0c24",
   "metadata": {},
   "outputs": [],
   "source": [
    "def visualize_result(query_graph, nodes_text_properties):\n",
    "    visual_graph = pyvis.network.Network()\n",
    "\n",
    "    for node in query_graph.nodes:\n",
    "        node_label = list(node.labels)[0]\n",
    "        node_text = node[nodes_text_properties[node_label]]\n",
    "        visual_graph.add_node(node.element_id, node_text, group=node_label)\n",
    "\n",
    "    for relationship in query_graph.relationships:\n",
    "        visual_graph.add_edge(\n",
    "            relationship.start_node.element_id,\n",
    "            relationship.end_node.element_id,\n",
    "            title=relationship.type\n",
    "        )\n",
    "\n",
    "\n",
    "\n",
    "    visual_graph.show('network.html', notebook=False)"
   ]
  },
  {
   "cell_type": "code",
   "execution_count": null,
   "id": "1f32b319-225a-44b7-9586-a3c4002b60e2",
   "metadata": {},
   "outputs": [],
   "source": []
  }
 ],
 "metadata": {
  "kernelspec": {
   "display_name": "Python 3 (ipykernel)",
   "language": "python",
   "name": "python3"
  },
  "language_info": {
   "codemirror_mode": {
    "name": "ipython",
    "version": 3
   },
   "file_extension": ".py",
   "mimetype": "text/x-python",
   "name": "python",
   "nbconvert_exporter": "python",
   "pygments_lexer": "ipython3",
   "version": "3.12.2"
  }
 },
 "nbformat": 4,
 "nbformat_minor": 5
}
