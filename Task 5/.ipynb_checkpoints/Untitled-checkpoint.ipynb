{
 "cells": [
  {
   "cell_type": "code",
   "execution_count": 1,
   "id": "997fca22-3e91-4faf-8800-e8d16ba25222",
   "metadata": {},
   "outputs": [
    {
     "name": "stdout",
     "output_type": "stream",
     "text": [
      "Requirement already satisfied: pymongo[srv] in d:\\anaconda\\envs\\internship_env\\lib\\site-packages (4.6.3)\n",
      "Requirement already satisfied: dnspython<3.0.0,>=1.16.0 in d:\\anaconda\\envs\\internship_env\\lib\\site-packages (from pymongo[srv]) (2.6.1)\n"
     ]
    }
   ],
   "source": [
    "!pip install pymongo[srv]"
   ]
  },
  {
   "cell_type": "code",
   "execution_count": 2,
   "id": "26eab7d1-ba5e-4956-b74b-612d0ccb64bd",
   "metadata": {},
   "outputs": [],
   "source": [
    "from pymongo import MongoClient\n",
    "\n",
    "from neo4j import GraphDatabase\n",
    "import neo4j\n",
    "\n",
    "import pandas as pd"
   ]
  },
  {
   "cell_type": "code",
   "execution_count": null,
   "id": "5d594a7e-c82f-4af7-91e0-8861d54d9f10",
   "metadata": {},
   "outputs": [],
   "source": [
    "URI = \"bolt://localhost:7687\"\n",
    "AUTH = (\"neo4j\", \"password\")"
   ]
  },
  {
   "cell_type": "code",
   "execution_count": null,
   "id": "f5b4d0d0-49ad-4d42-9edb-137e14c7467d",
   "metadata": {},
   "outputs": [],
   "source": [
    "driver = GraphDatabase.driver(uri=URI, auth=AUTH)"
   ]
  },
  {
   "cell_type": "code",
   "execution_count": null,
   "id": "b0ab17a0-12ad-4cf5-a984-ffbfbadea8bf",
   "metadata": {},
   "outputs": [],
   "source": []
  },
  {
   "cell_type": "code",
   "execution_count": 3,
   "id": "7d1e5e9e-282c-4031-bd60-6e498df3c413",
   "metadata": {},
   "outputs": [],
   "source": [
    "def get_database():\n",
    " \n",
    "   CONNECTION_STRING = \"mongodb://localhost:27017/\"\n",
    " \n",
    "   client = MongoClient(CONNECTION_STRING)\n",
    " \n",
    "   return client['user_shopping_list']\n",
    "\n",
    "if __name__ == \"__main__\":   \n",
    "  \n",
    "   dbname = get_database()"
   ]
  },
  {
   "cell_type": "code",
   "execution_count": 6,
   "id": "746ee7b4-1a24-4ff1-9381-99514af64be5",
   "metadata": {},
   "outputs": [],
   "source": [
    "CONNECTION_STRING = \"mongodb://localhost:27017/\"\n",
    "\n",
    "client = MongoClient(CONNECTION_STRING)\n",
    "\n",
    "movies_db = client.get_database"
   ]
  },
  {
   "cell_type": "code",
   "execution_count": 8,
   "id": "7b5ae05f-ef43-4546-98ca-a99e4ce7aee9",
   "metadata": {},
   "outputs": [
    {
     "data": {
      "text/plain": [
       "False"
      ]
     },
     "execution_count": 8,
     "metadata": {},
     "output_type": "execute_result"
    }
   ],
   "source": []
  },
  {
   "cell_type": "code",
   "execution_count": null,
   "id": "68f12237-27c6-44b7-8b55-3d8059e2bb88",
   "metadata": {},
   "outputs": [],
   "source": []
  }
 ],
 "metadata": {
  "kernelspec": {
   "display_name": "Python 3 (ipykernel)",
   "language": "python",
   "name": "python3"
  },
  "language_info": {
   "codemirror_mode": {
    "name": "ipython",
    "version": 3
   },
   "file_extension": ".py",
   "mimetype": "text/x-python",
   "name": "python",
   "nbconvert_exporter": "python",
   "pygments_lexer": "ipython3",
   "version": "3.12.2"
  }
 },
 "nbformat": 4,
 "nbformat_minor": 5
}
